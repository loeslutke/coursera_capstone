{
 "cells": [
  {
   "cell_type": "code",
   "execution_count": 35,
   "metadata": {},
   "outputs": [
    {
     "data": {
      "text/plain": [
       "(103, 3)"
      ]
     },
     "execution_count": 35,
     "metadata": {},
     "output_type": "execute_result"
    }
   ],
   "source": [
    "import requests\n",
    "import pandas as pd\n",
    "from bs4 import BeautifulSoup\n",
    "\n",
    "#Fetch the table with a combination of Request and BeautifolSoup\n",
    "headers = {\n",
    "    'Access-Control-Allow-Origin': '*',\n",
    "    'Access-Control-Allow-Methods': 'GET',\n",
    "    'Access-Control-Allow-Headers': 'Content-Type',\n",
    "    'Access-Control-Max-Age': '3600',\n",
    "    'User-Agent': 'Mozilla/5.0 (X11; Ubuntu; Linux x86_64; rv:52.0) Gecko/20100101 Firefox/52.0'\n",
    "    }\n",
    "\n",
    "url = \"https://en.wikipedia.org/wiki/List_of_postal_codes_of_Canada:_M\"\n",
    "req = requests.get(url, headers).text\n",
    "soup = BeautifulSoup(req, 'xml')\n",
    "# Only fetch the table we are interested in\n",
    "html_table = soup.find('table',{'class': 'wikitable sortable'})\n",
    "\n",
    "\n",
    "html_table_rows = html_table.find_all('tr')\n",
    "table_data = []\n",
    "#Loop over the table itself to make sure we know the procedure of getting the information\n",
    "for table_row in html_table_rows:\n",
    "    cells = []\n",
    "    for table_cell in table_row.find_all('td'):\n",
    "        cells.append(table_cell.text.strip())\n",
    "    table_data.append(cells)\n",
    "\n",
    "# Transfer to a dataframe with the given columns\n",
    "table_df = pd.DataFrame(table_data, columns=['PostalCode', 'Borough', 'Neighbourhood'])\n",
    "\n",
    "# Remove any rows with an empty Borough or it is not assigned\n",
    "table_df = table_df[~table_df['Borough'].isnull()]\n",
    "table_df.drop(table_df[table_df.Borough == 'Not assigned'].index, inplace=True)\n",
    "table_df.reset_index(drop = True, inplace = True)\n",
    "\n",
    "# Make sure we do the grouping as given, with neighbourhoods seperated by comma\n",
    "table_df = table_df.groupby(['PostalCode', 'Borough'])['Neighbourhood'].apply(lambda x: ','.join(x)).reset_index()\n",
    "table_df['Neighbourhood'].replace('Not assigned', table_df['Borough'], inplace=True)\n",
    "\n",
    "# Presto.gif\n",
    "table_df.shape"
   ]
  },
  {
   "cell_type": "code",
   "execution_count": null,
   "metadata": {},
   "outputs": [],
   "source": []
  }
 ],
 "metadata": {
  "kernelspec": {
   "display_name": "Python 3.6",
   "language": "python",
   "name": "python3"
  },
  "language_info": {
   "codemirror_mode": {
    "name": "ipython",
    "version": 3
   },
   "file_extension": ".py",
   "mimetype": "text/x-python",
   "name": "python",
   "nbconvert_exporter": "python",
   "pygments_lexer": "ipython3",
   "version": "3.6.9"
  }
 },
 "nbformat": 4,
 "nbformat_minor": 1
}
