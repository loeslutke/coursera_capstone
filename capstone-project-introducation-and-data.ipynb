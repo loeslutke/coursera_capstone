{
 "cells": [
  {
   "cell_type": "markdown",
   "metadata": {
    "collapsed": true
   },
   "source": [
    "# The pubcrawl Analysis"
   ]
  },
  {
   "cell_type": "markdown",
   "metadata": {},
   "source": [
    "## Introduction\n",
    "\n",
    "A pubcrawl is basically a tour of different bars in a city, or a part of a grander city.\n",
    "The objective is to have as many drinks in as many bars, pubs or café's as you can in a single night.\n",
    "Many European cities offer public pubcrawls, and in other these are hosted publically as well so people can have a look at different establishments in a city and meet new people.\n",
    "But if you want to host a crawl of your own with some friends what are the best places to do so?\n",
    "\n",
    "Let's say our stakeholders are a group of friends with a size of 12 persons, who we call \"The Drinking Dozen\".\n",
    "They want to go on a long holiday to different places around the world to do a set of pubcrawls.\n",
    "To make it easier, here is a list of requirements:\n",
    "\n",
    "- They need to be able to stay at a hotel, with the establishments at maximum of a half an hour walk from the hotel\n",
    "- There should be around 10 establishments around where they can have a drink together\n",
    "- If we can establish this, it would be a plus if the establishments are different from each other (albeit themed, nationalised or original)\n",
    "- As a baseline, we'll make a list of cities in Europe where this can be done:\n",
    "  - Dublin\n",
    "  - London\n",
    "  - Amsterdam\n",
    "  - Berlin\n",
    "  - Paris\n",
    "  - Prague\n",
    "  - Brussels\n",
    "\n",
    "What we want to accomplish, is a list of establishments in walking order so the group knows where to have their night out.\n",
    "\n",
    "Firstly, we'll take a look at suitable hotels. From there on, we'll narrow down a list of suitable establishments within our requirements.\n",
    "From there on, we'll create some possible crawls in each city and make a compendium of these.\n",
    "After that, we'll look at a possible ranking or rating system so we can make a reccomendation for \"The Drinking Dozen\" to have their nights out.\n",
    "\n",
    "## Data\n",
    "\n",
    "We will use the Foursqaure API to gather the information.\n",
    "At first, we'll take a particular city to work with (Dublin).\n",
    "From there on, we'll grab some hotels and look at the available information to see if we can narrow them down.\n",
    "When we have established the hotels, we'll check if there are any possible routes to do a pubcrawl.\n",
    "And at last, we'll devise some sort of ranking/rating system for the crawls to see if we can preemptively see which are the best possible routes.\n",
    "We'll then do the same for the other cities.\n"
   ]
  }
 ],
 "metadata": {
  "kernelspec": {
   "display_name": "Python 3.6",
   "language": "python",
   "name": "python3"
  },
  "language_info": {
   "codemirror_mode": {
    "name": "ipython",
    "version": 3
   },
   "file_extension": ".py",
   "mimetype": "text/x-python",
   "name": "python",
   "nbconvert_exporter": "python",
   "pygments_lexer": "ipython3",
   "version": "3.6.9"
  }
 },
 "nbformat": 4,
 "nbformat_minor": 1
}
